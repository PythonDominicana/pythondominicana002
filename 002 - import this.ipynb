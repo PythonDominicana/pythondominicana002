{
 "metadata": {
  "name": "002-import this"
 },
 "nbformat": 3,
 "nbformat_minor": 0,
 "worksheets": [
  {
   "cells": [
    {
     "cell_type": "code",
     "collapsed": true,
     "input": [
      "import this"
     ],
     "language": "python",
     "metadata": {},
     "outputs": [
      {
       "output_type": "stream",
       "stream": "stdout",
       "text": [
        "The Zen of Python, by Tim Peters\n",
        "\n",
        "Beautiful is better than ugly.\n",
        "Explicit is better than implicit.\n",
        "Simple is better than complex.\n",
        "Complex is better than complicated.\n",
        "Flat is better than nested.\n",
        "Sparse is better than dense.\n",
        "Readability counts.\n",
        "Special cases aren't special enough to break the rules.\n",
        "Although practicality beats purity.\n",
        "Errors should never pass silently.\n",
        "Unless explicitly silenced.\n",
        "In the face of ambiguity, refuse the temptation to guess.\n",
        "There should be one-- and preferably only one --obvious way to do it.\n",
        "Although that way may not be obvious at first unless you're Dutch.\n",
        "Now is better than never.\n",
        "Although never is often better than *right* now.\n",
        "If the implementation is hard to explain, it's a bad idea.\n",
        "If the implementation is easy to explain, it may be a good idea.\n",
        "Namespaces are one honking great idea -- let's do more of those!\n"
       ]
      }
     ],
     "prompt_number": 2
    },
    {
     "cell_type": "code",
     "collapsed": false,
     "input": [
      "this.__file__\r"
     ],
     "language": "python",
     "metadata": {},
     "outputs": [
      {
       "output_type": "pyout",
       "prompt_number": 3,
       "text": [
        "'/System/Library/Frameworks/Python.framework/Versions/2.7/lib/python2.7/this.py'"
       ]
      }
     ],
     "prompt_number": 3
    },
    {
     "cell_type": "code",
     "collapsed": false,
     "input": [
      "open(this.__file__).read()"
     ],
     "language": "python",
     "metadata": {},
     "outputs": [
      {
       "output_type": "pyout",
       "prompt_number": 4,
       "text": [
        "'s = \"\"\"Gur Mra bs Clguba, ol Gvz Crgref\\n\\nOrnhgvshy vf orggre guna htyl.\\nRkcyvpvg vf orggre guna vzcyvpvg.\\nFvzcyr vf orggre guna pbzcyrk.\\nPbzcyrk vf orggre guna pbzcyvpngrq.\\nSyng vf orggre guna arfgrq.\\nFcnefr vf orggre guna qrafr.\\nErnqnovyvgl pbhagf.\\nFcrpvny pnfrf nera\\'g fcrpvny rabhtu gb oernx gur ehyrf.\\nNygubhtu cenpgvpnyvgl orngf chevgl.\\nReebef fubhyq arire cnff fvyragyl.\\nHayrff rkcyvpvgyl fvyraprq.\\nVa gur snpr bs nzovthvgl, ershfr gur grzcgngvba gb thrff.\\nGurer fubhyq or bar-- naq cersrenoyl bayl bar --boivbhf jnl gb qb vg.\\nNygubhtu gung jnl znl abg or boivbhf ng svefg hayrff lbh\\'er Qhgpu.\\nAbj vf orggre guna arire.\\nNygubhtu arire vf bsgra orggre guna *evtug* abj.\\nVs gur vzcyrzragngvba vf uneq gb rkcynva, vg\\'f n onq vqrn.\\nVs gur vzcyrzragngvba vf rnfl gb rkcynva, vg znl or n tbbq vqrn.\\nAnzrfcnprf ner bar ubaxvat terng vqrn -- yrg\\'f qb zber bs gubfr!\"\"\"\\n\\nd = {}\\nfor c in (65, 97):\\n    for i in range(26):\\n        d[chr(i+c)] = chr((i+13) % 26 + c)\\n\\nprint \"\".join([d.get(c, c) for c in s])\\n'"
       ]
      }
     ],
     "prompt_number": 4
    },
    {
     "cell_type": "code",
     "collapsed": true,
     "input": [
      "print open(this.__file__).read()"
     ],
     "language": "python",
     "metadata": {},
     "outputs": [
      {
       "output_type": "stream",
       "stream": "stdout",
       "text": [
        "s = \"\"\"Gur Mra bs Clguba, ol Gvz Crgref\n",
        "\n",
        "Ornhgvshy vf orggre guna htyl.\n",
        "Rkcyvpvg vf orggre guna vzcyvpvg.\n",
        "Fvzcyr vf orggre guna pbzcyrk.\n",
        "Pbzcyrk vf orggre guna pbzcyvpngrq.\n",
        "Syng vf orggre guna arfgrq.\n",
        "Fcnefr vf orggre guna qrafr.\n",
        "Ernqnovyvgl pbhagf.\n",
        "Fcrpvny pnfrf nera'g fcrpvny rabhtu gb oernx gur ehyrf.\n",
        "Nygubhtu cenpgvpnyvgl orngf chevgl.\n",
        "Reebef fubhyq arire cnff fvyragyl.\n",
        "Hayrff rkcyvpvgyl fvyraprq.\n",
        "Va gur snpr bs nzovthvgl, ershfr gur grzcgngvba gb thrff.\n",
        "Gurer fubhyq or bar-- naq cersrenoyl bayl bar --boivbhf jnl gb qb vg.\n",
        "Nygubhtu gung jnl znl abg or boivbhf ng svefg hayrff lbh'er Qhgpu.\n",
        "Abj vf orggre guna arire.\n",
        "Nygubhtu arire vf bsgra orggre guna *evtug* abj.\n",
        "Vs gur vzcyrzragngvba vf uneq gb rkcynva, vg'f n onq vqrn.\n",
        "Vs gur vzcyrzragngvba vf rnfl gb rkcynva, vg znl or n tbbq vqrn.\n",
        "Anzrfcnprf ner bar ubaxvat terng vqrn -- yrg'f qb zber bs gubfr!\"\"\"\n",
        "\n",
        "d = {}\n",
        "for c in (65, 97):\n",
        "    for i in range(26):\n",
        "        d[chr(i+c)] = chr((i+13) % 26 + c)\n",
        "\n",
        "print \"\".join([d.get(c, c) for c in s])\n",
        "\n"
       ]
      }
     ],
     "prompt_number": 5
    },
    {
     "cell_type": "code",
     "collapsed": false,
     "input": [
      "exec(open(this.__file__).read())"
     ],
     "language": "python",
     "metadata": {},
     "outputs": [
      {
       "output_type": "stream",
       "stream": "stdout",
       "text": [
        "The Zen of Python, by Tim Peters\n",
        "\n",
        "Beautiful is better than ugly.\n",
        "Explicit is better than implicit.\n",
        "Simple is better than complex.\n",
        "Complex is better than complicated.\n",
        "Flat is better than nested.\n",
        "Sparse is better than dense.\n",
        "Readability counts.\n",
        "Special cases aren't special enough to break the rules.\n",
        "Although practicality beats purity.\n",
        "Errors should never pass silently.\n",
        "Unless explicitly silenced.\n",
        "In the face of ambiguity, refuse the temptation to guess.\n",
        "There should be one-- and preferably only one --obvious way to do it.\n",
        "Although that way may not be obvious at first unless you're Dutch.\n",
        "Now is better than never.\n",
        "Although never is often better than *right* now.\n",
        "If the implementation is hard to explain, it's a bad idea.\n",
        "If the implementation is easy to explain, it may be a good idea.\n",
        "Namespaces are one honking great idea -- let's do more of those!\n"
       ]
      }
     ],
     "prompt_number": 6
    },
    {
     "cell_type": "markdown",
     "metadata": {},
     "source": [
      "Mucha gente se pregunto q le explicaran mejor el algoritmo de arriba. Este es http://en.wikipedia.org/wiki/ROT13 basicamente se toma cada letra y se le suman 13 haciendo el texto \"ilegible\" y la tecnica utilizada aca es generar un translation table. Para cada valor del abcedario se genera la letra que lo va a substituir y luego se hace la subtiticion. "
     ]
    },
    {
     "cell_type": "code",
     "collapsed": false,
     "input": [
      "d = {}\n",
      "for c in (65, 97):\n",
      "    for i in range(26):\n",
      "        d[chr(i+c)] = chr((i+13) % 26 + c)\n",
      "\n",
      "print d.items()\n",
      "#NOTA: los dict no son sorted!!! asi que abajo no sale a,b,c,d,e,etc."
     ],
     "language": "python",
     "metadata": {},
     "outputs": [
      {
       "output_type": "stream",
       "stream": "stdout",
       "text": [
        "[('A', 'N'), ('C', 'P'), ('B', 'O'), ('E', 'R'), ('D', 'Q'), ('G', 'T'), ('F', 'S'), ('I', 'V'), ('H', 'U'), ('K', 'X'), ('J', 'W'), ('M', 'Z'), ('L', 'Y'), ('O', 'B'), ('N', 'A'), ('Q', 'D'), ('P', 'C'), ('S', 'F'), ('R', 'E'), ('U', 'H'), ('T', 'G'), ('W', 'J'), ('V', 'I'), ('Y', 'L'), ('X', 'K'), ('Z', 'M'), ('a', 'n'), ('c', 'p'), ('b', 'o'), ('e', 'r'), ('d', 'q'), ('g', 't'), ('f', 's'), ('i', 'v'), ('h', 'u'), ('k', 'x'), ('j', 'w'), ('m', 'z'), ('l', 'y'), ('o', 'b'), ('n', 'a'), ('q', 'd'), ('p', 'c'), ('s', 'f'), ('r', 'e'), ('u', 'h'), ('t', 'g'), ('w', 'j'), ('v', 'i'), ('y', 'l'), ('x', 'k'), ('z', 'm')]\n"
       ]
      }
     ],
     "prompt_number": 33
    },
    {
     "cell_type": "raw",
     "metadata": {},
     "source": [
      "de 65 a 97 son las letras mayusculas en el ASCII table las cuales son la parte baja de unicode por lo tanto:"
     ]
    },
    {
     "cell_type": "code",
     "collapsed": false,
     "input": [
      "print chr(65)\n",
      "print chr(97)\n",
      "print [chr(c) for c in range(65,97)]"
     ],
     "language": "python",
     "metadata": {},
     "outputs": [
      {
       "output_type": "stream",
       "stream": "stdout",
       "text": [
        "A\n",
        "a\n",
        "['A', 'B', 'C', 'D', 'E', 'F', 'G', 'H', 'I', 'J', 'K', 'L', 'M', 'N', 'O', 'P', 'Q', 'R', 'S', 'T', 'U', 'V', 'W', 'X', 'Y', 'Z', '[', '\\\\', ']', '^', '_', '`']\n"
       ]
      }
     ],
     "prompt_number": 22
    },
    {
     "cell_type": "raw",
     "metadata": {},
     "source": [
      "Porque 26? "
     ]
    },
    {
     "cell_type": "code",
     "collapsed": false,
     "input": [
      "ord(\"Z\")-ord(\"A\")"
     ],
     "language": "python",
     "metadata": {},
     "outputs": [
      {
       "output_type": "pyout",
       "prompt_number": 17,
       "text": [
        "25"
       ]
      }
     ],
     "prompt_number": 17
    },
    {
     "cell_type": "code",
     "collapsed": false,
     "input": [
      "d = {}\n",
      "c = 67\n",
      "i = 10 \n",
      "d[chr(i+c)] = chr((i+13) % 26 + c)\n",
      "print d"
     ],
     "language": "python",
     "metadata": {},
     "outputs": [
      {
       "output_type": "stream",
       "stream": "stdout",
       "text": [
        "{'M': 'Z'}\n"
       ]
      }
     ],
     "prompt_number": 31
    },
    {
     "cell_type": "raw",
     "metadata": {},
     "source": [
      "So volviendo al ejemplo original una vez tenemos el dict."
     ]
    },
    {
     "cell_type": "code",
     "collapsed": false,
     "input": [
      "s = \"Python is cool!\" \n",
      "d = {}\n",
      "for c in (65, 97):\n",
      "    for i in range(26):\n",
      "        d[chr(i+c)] = chr((i+13) % 26 + c)\n",
      "\n",
      "print \"\".join([d.get(c, c) for c in s])"
     ],
     "language": "python",
     "metadata": {},
     "outputs": [
      {
       "output_type": "stream",
       "stream": "stdout",
       "text": [
        "Clguba vf pbby!\n"
       ]
      }
     ],
     "prompt_number": 34
    },
    {
     "cell_type": "code",
     "collapsed": false,
     "input": [],
     "language": "python",
     "metadata": {},
     "outputs": []
    }
   ],
   "metadata": {}
  }
 ]
}