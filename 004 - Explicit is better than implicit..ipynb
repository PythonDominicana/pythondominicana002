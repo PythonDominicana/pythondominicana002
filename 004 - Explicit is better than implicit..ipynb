{
 "metadata": {
  "name": "004 - Explicit is better than implicit."
 },
 "nbformat": 3,
 "nbformat_minor": 0,
 "worksheets": [
  {
   "cells": [
    {
     "cell_type": "heading",
     "level": 1,
     "metadata": {},
     "source": [
      "Explicit is better than implicit."
     ]
    },
    {
     "cell_type": "code",
     "collapsed": false,
     "input": [
      "chars = \"a,b,,\\n\"\n",
      "regexp = \",|\\n\""
     ],
     "language": "python",
     "metadata": {},
     "outputs": []
    },
    {
     "cell_type": "code",
     "collapsed": false,
     "input": [
      "chars.split(\",\")"
     ],
     "language": "python",
     "metadata": {},
     "outputs": []
    },
    {
     "cell_type": "code",
     "collapsed": false,
     "input": [
      "s.split(regexp)"
     ],
     "language": "python",
     "metadata": {},
     "outputs": []
    },
    {
     "cell_type": "code",
     "collapsed": false,
     "input": [
      "import re\n",
      "re.split(regexp,chars)"
     ],
     "language": "python",
     "metadata": {},
     "outputs": []
    },
    {
     "cell_type": "heading",
     "level": 1,
     "metadata": {},
     "source": [
      "While in Java...."
     ]
    },
    {
     "cell_type": "raw",
     "metadata": {},
     "source": [
      "String chars = \"a,b,,\\n\"\n",
      "String regexp = \",|\\n\"\n",
      " \n",
      ">>> chars.split(\",\")\n",
      "['a','b','\\n']\n",
      ">>> chars.split(regexp)\n",
      "['a','b']"
     ]
    },
    {
     "cell_type": "raw",
     "metadata": {},
     "source": [
      "apologize in advance if the code above has bugs."
     ]
    }
   ],
   "metadata": {}
  }
 ]
}