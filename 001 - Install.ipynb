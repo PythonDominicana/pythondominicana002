{
 "metadata": {
  "name": "001-Install"
 },
 "nbformat": 3,
 "nbformat_minor": 0,
 "worksheets": [
  {
   "cells": [
    {
     "cell_type": "heading",
     "level": 1,
     "metadata": {},
     "source": [
      "Como lo Instalo?"
     ]
    },
    {
     "cell_type": "raw",
     "metadata": {},
     "source": [
      "Viene con todos los sistemas operativos que se respeten.\n",
      "abres terminal, uxterm, xterm, etc. Y simplemente ejecutas\n",
      "\n",
      " \u279c ~ python\n",
      " Python 2.7.2 (default, Jun 20 2012, 16:23:33)\n",
      " [GCC 4.2.1 Compatible Apple Clang 4.0 (tags/Apple/clang-418.0.60)] on darwin Type \"help\", \"copyright\", \"credits\" or \"license\" for more information.\n",
      " >>> print(\"Hello World\")\n",
      " Hello World"
     ]
    },
    {
     "cell_type": "markdown",
     "metadata": {},
     "source": [
      "Windows\n",
      "-------\n",
      "\n",
      "http://www.python.org/getit/windows/"
     ]
    },
    {
     "cell_type": "markdown",
     "metadata": {},
     "source": [
      "Libros Tutorials y demas?\n",
      "=========================\n",
      "\n",
      "Para los que no lo vieron recopilamos la lista de cosas aqui https://plus.google.com/b/115629166357246025614/115629166357246025614/posts/SEPoJHdzJGL"
     ]
    },
    {
     "cell_type": "markdown",
     "metadata": {},
     "source": [
      "Multiparadigma\n",
      "==============\n",
      "\n",
      "* Structured Programming\n",
      "* OOP + multiple inheritance\n",
      "* funcional programming\n",
      "* metaprogramming and magic methods \u2022 aspect oriented"
     ]
    },
    {
     "cell_type": "raw",
     "metadata": {},
     "source": [
      "Pero python va mas alla. Hay ciertas caracteristicas del lenguaje que lo hacen especial, por ejemplo:"
     ]
    },
    {
     "cell_type": "code",
     "collapsed": false,
     "input": [
      "print list"
     ],
     "language": "python",
     "metadata": {},
     "outputs": [
      {
       "output_type": "stream",
       "stream": "stdout",
       "text": [
        "<type 'list'>\n"
       ]
      }
     ],
     "prompt_number": 10
    },
    {
     "cell_type": "code",
     "collapsed": false,
     "input": [
      "print dict"
     ],
     "language": "python",
     "metadata": {},
     "outputs": [
      {
       "output_type": "stream",
       "stream": "stdout",
       "text": [
        "<type 'dict'>\n"
       ]
      }
     ],
     "prompt_number": 11
    },
    {
     "cell_type": "code",
     "collapsed": false,
     "input": [
      "range(5)\n",
      "#type(range(5))"
     ],
     "language": "python",
     "metadata": {},
     "outputs": [
      {
       "output_type": "pyout",
       "prompt_number": 16,
       "text": [
        "list"
       ]
      }
     ],
     "prompt_number": 16
    },
    {
     "cell_type": "code",
     "collapsed": false,
     "input": [
      "for i in range(5):\n",
      "    print i"
     ],
     "language": "python",
     "metadata": {},
     "outputs": [
      {
       "output_type": "stream",
       "stream": "stdout",
       "text": [
        "0\n",
        "1\n",
        "2\n",
        "3\n",
        "4\n"
       ]
      }
     ],
     "prompt_number": 17
    },
    {
     "cell_type": "code",
     "collapsed": false,
     "input": [
      "def func():\n",
      "    a = 5\n",
      "    b = 10\n",
      "    print locals()\n",
      "    \n",
      "func()"
     ],
     "language": "python",
     "metadata": {},
     "outputs": [
      {
       "output_type": "stream",
       "stream": "stdout",
       "text": [
        "{'a': 5, 'b': 10}\n"
       ]
      }
     ],
     "prompt_number": 18
    }
   ],
   "metadata": {}
  }
 ]
}