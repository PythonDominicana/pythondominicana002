{
 "metadata": {
  "name": "010 - hard-implementation"
 },
 "nbformat": 3,
 "nbformat_minor": 0,
 "worksheets": [
  {
   "cells": [
    {
     "cell_type": "markdown",
     "metadata": {},
     "source": [
      "If the implementation is hard to explain, it's a bad idea.\n",
      "==========================================================\n",
      "\n",
      "<img src='files/hard_cards.jpg' width=800 height=600>\n",
      "\n",
      "If the implementation is easy to explain, it may be a good idea.\n",
      "=================================================================\n",
      "\n",
      "<img src='files/all_cards.jpg' width=600 height=800>"
     ]
    },
    {
     "cell_type": "heading",
     "level": 3,
     "metadata": {},
     "source": [
      "Las tres cartas de abajo se entienden aunque nunca hayas jugado munckin. La primera es buena la segunda es mala y la tercera depende de cuando se use y contra quien"
     ]
    }
   ],
   "metadata": {}
  }
 ]
}