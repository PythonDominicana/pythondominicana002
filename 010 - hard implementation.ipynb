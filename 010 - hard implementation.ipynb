{
 "metadata": {
  "name": "010 - hard-implementation"
 },
 "nbformat": 3,
 "nbformat_minor": 0,
 "worksheets": [
  {
   "cells": [
    {
     "cell_type": "markdown",
     "metadata": {},
     "source": [
      "If the implementation is hard to explain, it's a bad idea.\n",
      "==========================================================\n",
      "\n",
      "![hard_cards](cards.jpg) \n",
      "\n",
      "If the implementation is easy to explain, it may be a good idea.\n",
      "=================================================================\n",
      "\n",
      "![easy_cards](cards2.jpg)"
     ]
    }
   ],
   "metadata": {}
  }
 ]
}