{
 "metadata": {
  "name": "004-beautiful"
 },
 "nbformat": 3,
 "nbformat_minor": 0,
 "worksheets": [
  {
   "cells": [
    {
     "cell_type": "markdown",
     "metadata": {},
     "source": [
      "Beautiful is better than ugly.\n",
      "===============================\n",
      "\n",
      "![beautifil](http://www.tutztutz.com/wp-content/uploads/2011/10/most-beautiful-girls24.jpg)\n",
      "![ugly](http://cdn.ebaumsworld.com/picture/mrhahn530/FuglyChicks.png)"
     ]
    },
    {
     "cell_type": "code",
     "collapsed": false,
     "input": [],
     "language": "python",
     "metadata": {},
     "outputs": []
    }
   ],
   "metadata": {}
  }
 ]
}