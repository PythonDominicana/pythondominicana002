{
 "metadata": {
  "name": "007 - special cases"
 },
 "nbformat": 3,
 "nbformat_minor": 0,
 "worksheets": [
  {
   "cells": [
    {
     "cell_type": "heading",
     "level": 1,
     "metadata": {},
     "source": [
      "Special cases aren't special enough to break the rules."
     ]
    },
    {
     "cell_type": "code",
     "collapsed": false,
     "input": [
      "def is_nombre(nombre):\n",
      "\t\"\"\"Source developers.do/index.php/unit-testing-en-python/\"\"\"\n",
      "\tnombre = nombre.replace(\" \",\"\")\n",
      "\tif len(nombre) == 0:\n",
      "\t\treturn False\n",
      "\treturn nombre.isalpha()\n",
      "\n",
      "print is_nombre(\"\")"
     ],
     "language": "python",
     "metadata": {},
     "outputs": [
      {
       "output_type": "stream",
       "stream": "stdout",
       "text": [
        "False\n"
       ]
      }
     ],
     "prompt_number": 9
    },
    {
     "cell_type": "code",
     "collapsed": false,
     "input": [
      "print \"\".isalpha()"
     ],
     "language": "python",
     "metadata": {},
     "outputs": [
      {
       "output_type": "stream",
       "stream": "stdout",
       "text": [
        "False\n"
       ]
      }
     ],
     "prompt_number": 10
    },
    {
     "cell_type": "code",
     "collapsed": false,
     "input": [
      "def is_nombre(nombre):\n",
      "    return nombre.isalpha()\n",
      "\n",
      "is_nombre(\"\")"
     ],
     "language": "python",
     "metadata": {},
     "outputs": [
      {
       "output_type": "pyout",
       "prompt_number": 11,
       "text": [
        "False"
       ]
      }
     ],
     "prompt_number": 11
    },
    {
     "cell_type": "code",
     "collapsed": false,
     "input": [
      "construct = [0,'',\"\",None,[],{}]\n",
      "for c in construct:\n",
      "    print \"Element\\t:\\t{0}\\t Representation\\t:\\t{1}\\t bool({1})\\t:\\t{2}\\t \\tif({1})\\t:\\t{3}\\t\".format(c,repr(c),bool(c),bool(c)==True)\n"
     ],
     "language": "python",
     "metadata": {},
     "outputs": [
      {
       "output_type": "stream",
       "stream": "stdout",
       "text": [
        "Element\t:\t0\t Representation\t:\t0\t bool(0)\t:\tFalse\t \tif(0)\t:\tFalse\t\n",
        "Element\t:\t\t Representation\t:\t''\t bool('')\t:\tFalse\t \tif('')\t:\tFalse\t\n",
        "Element\t:\t\t Representation\t:\t''\t bool('')\t:\tFalse\t \tif('')\t:\tFalse\t\n",
        "Element\t:\tNone\t Representation\t:\tNone\t bool(None)\t:\tFalse\t \tif(None)\t:\tFalse\t\n",
        "Element\t:\t[]\t Representation\t:\t[]\t bool([])\t:\tFalse\t \tif([])\t:\tFalse\t\n",
        "Element\t:\t{}\t Representation\t:\t{}\t bool({})\t:\tFalse\t \tif({})\t:\tFalse\t\n"
       ]
      }
     ],
     "prompt_number": 32
    },
    {
     "cell_type": "code",
     "collapsed": false,
     "input": [],
     "language": "python",
     "metadata": {},
     "outputs": []
    }
   ],
   "metadata": {}
  }
 ]
}