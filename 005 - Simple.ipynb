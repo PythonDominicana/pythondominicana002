{
 "metadata": {
  "name": "005 - Simple"
 },
 "nbformat": 3,
 "nbformat_minor": 0,
 "worksheets": [
  {
   "cells": [
    {
     "cell_type": "heading",
     "level": 1,
     "metadata": {},
     "source": [
      "Simple is better than complex.\n",
      "Complex is better than complicated."
     ]
    },
    {
     "cell_type": "code",
     "collapsed": false,
     "input": [
      "def parse_input(rawinput):\n",
      "        if rawinput.startswith(\"//\"):\n",
      "                delimiter_text,numbers= rawinput.split(\"-\",1)\n",
      "                return delimiter_text[2:3],numbers\n",
      "        else:\n",
      "                return \",\",rawinput\n",
      "delimiter,numbers=parse_input(\"//;-1;2\")\n",
      "print delimiter\n",
      "print numbers"
     ],
     "language": "python",
     "metadata": {},
     "outputs": [
      {
       "output_type": "stream",
       "stream": "stdout",
       "text": [
        ";\n",
        "1;2\n"
       ]
      }
     ],
     "prompt_number": 1
    },
    {
     "cell_type": "code",
     "collapsed": false,
     "input": [
      "import re"
     ],
     "language": "python",
     "metadata": {},
     "outputs": []
    },
    {
     "cell_type": "markdown",
     "metadata": {},
     "source": [
      "![regexp](http://cdn.memegenerator.net/instances/250x250/23687441.jpg)"
     ]
    }
   ],
   "metadata": {}
  }
 ]
}