{
 "metadata": {
  "name": "008 - Although practicality beats purity."
 },
 "nbformat": 3,
 "nbformat_minor": 0,
 "worksheets": [
  {
   "cells": [
    {
     "cell_type": "heading",
     "level": 1,
     "metadata": {},
     "source": [
      "Although practicality beats purity."
     ]
    },
    {
     "cell_type": "code",
     "collapsed": false,
     "input": [
      "import random\n",
      "#some voodoo to make Django work from the command line\n",
      "all_reviews=MattressReview.objects.filter(status=2).filter(rating__lte=2.5).values_list('id',flat=True)\n",
      "print \"\\n\".join([(\"http://stage.somedjangosite.com/admin/reviews/mattressreview/%i\"%i) for i in random.sample(all_reviews,int(len(all_reviews)*0.1))])"
     ],
     "language": "python",
     "metadata": {},
     "outputs": []
    },
    {
     "cell_type": "code",
     "collapsed": false,
     "input": [
      "import random\n",
      "all_reviews = range(2*4*12*5)\n",
      "print \"\\n\".join([(\"http://stage.somedjangosite.com/admin/reviews/mattressreview/%i\"%i) for i in random.sample(all_reviews,int(len(all_reviews)*0.1))])"
     ],
     "language": "python",
     "metadata": {},
     "outputs": [
      {
       "output_type": "stream",
       "stream": "stdout",
       "text": [
        "http://stage.somedjangosite.com/admin/reviews/mattressreview/347\n",
        "http://stage.somedjangosite.com/admin/reviews/mattressreview/345\n",
        "http://stage.somedjangosite.com/admin/reviews/mattressreview/19\n",
        "http://stage.somedjangosite.com/admin/reviews/mattressreview/153\n",
        "http://stage.somedjangosite.com/admin/reviews/mattressreview/142\n",
        "http://stage.somedjangosite.com/admin/reviews/mattressreview/297\n",
        "http://stage.somedjangosite.com/admin/reviews/mattressreview/276\n",
        "http://stage.somedjangosite.com/admin/reviews/mattressreview/405\n",
        "http://stage.somedjangosite.com/admin/reviews/mattressreview/272\n",
        "http://stage.somedjangosite.com/admin/reviews/mattressreview/285\n",
        "http://stage.somedjangosite.com/admin/reviews/mattressreview/201\n",
        "http://stage.somedjangosite.com/admin/reviews/mattressreview/58\n",
        "http://stage.somedjangosite.com/admin/reviews/mattressreview/48\n",
        "http://stage.somedjangosite.com/admin/reviews/mattressreview/284\n",
        "http://stage.somedjangosite.com/admin/reviews/mattressreview/148\n",
        "http://stage.somedjangosite.com/admin/reviews/mattressreview/264\n",
        "http://stage.somedjangosite.com/admin/reviews/mattressreview/134\n",
        "http://stage.somedjangosite.com/admin/reviews/mattressreview/179\n",
        "http://stage.somedjangosite.com/admin/reviews/mattressreview/28\n",
        "http://stage.somedjangosite.com/admin/reviews/mattressreview/140\n",
        "http://stage.somedjangosite.com/admin/reviews/mattressreview/312\n",
        "http://stage.somedjangosite.com/admin/reviews/mattressreview/265\n",
        "http://stage.somedjangosite.com/admin/reviews/mattressreview/84\n",
        "http://stage.somedjangosite.com/admin/reviews/mattressreview/332\n",
        "http://stage.somedjangosite.com/admin/reviews/mattressreview/161\n",
        "http://stage.somedjangosite.com/admin/reviews/mattressreview/292\n",
        "http://stage.somedjangosite.com/admin/reviews/mattressreview/466\n",
        "http://stage.somedjangosite.com/admin/reviews/mattressreview/5\n",
        "http://stage.somedjangosite.com/admin/reviews/mattressreview/189\n",
        "http://stage.somedjangosite.com/admin/reviews/mattressreview/86\n",
        "http://stage.somedjangosite.com/admin/reviews/mattressreview/404\n",
        "http://stage.somedjangosite.com/admin/reviews/mattressreview/443\n",
        "http://stage.somedjangosite.com/admin/reviews/mattressreview/113\n",
        "http://stage.somedjangosite.com/admin/reviews/mattressreview/230\n",
        "http://stage.somedjangosite.com/admin/reviews/mattressreview/160\n",
        "http://stage.somedjangosite.com/admin/reviews/mattressreview/262\n",
        "http://stage.somedjangosite.com/admin/reviews/mattressreview/127\n",
        "http://stage.somedjangosite.com/admin/reviews/mattressreview/116\n",
        "http://stage.somedjangosite.com/admin/reviews/mattressreview/205\n",
        "http://stage.somedjangosite.com/admin/reviews/mattressreview/329\n",
        "http://stage.somedjangosite.com/admin/reviews/mattressreview/203\n",
        "http://stage.somedjangosite.com/admin/reviews/mattressreview/166\n",
        "http://stage.somedjangosite.com/admin/reviews/mattressreview/243\n",
        "http://stage.somedjangosite.com/admin/reviews/mattressreview/370\n",
        "http://stage.somedjangosite.com/admin/reviews/mattressreview/133\n",
        "http://stage.somedjangosite.com/admin/reviews/mattressreview/296\n",
        "http://stage.somedjangosite.com/admin/reviews/mattressreview/377\n",
        "http://stage.somedjangosite.com/admin/reviews/mattressreview/18\n"
       ]
      }
     ],
     "prompt_number": 3
    },
    {
     "cell_type": "code",
     "collapsed": false,
     "input": [],
     "language": "python",
     "metadata": {},
     "outputs": []
    }
   ],
   "metadata": {}
  }
 ]
}