{
 "metadata": {
  "name": "003-some-awesome-tools"
 },
 "nbformat": 3,
 "nbformat_minor": 0,
 "worksheets": [
  {
   "cells": [
    {
     "cell_type": "markdown",
     "metadata": {},
     "source": [
      "bpython\n",
      "-------\n",
      "\n",
      "A Fancy Interface to the Python Interpreter\n",
      "\n",
      "http://pypi.python.org/pypi/bpython"
     ]
    },
    {
     "cell_type": "markdown",
     "metadata": {},
     "source": [
      "ipython\n",
      "-------\n",
      "IPython: Productive Interactive Computing\n",
      "\n",
      "http://pypi.python.org/pypi/ipython"
     ]
    },
    {
     "cell_type": "markdown",
     "metadata": {},
     "source": [
      "virtualenv\n",
      "----------\n",
      "\n",
      "Out of the mind of Ian Bicking https://plus.google.com/+IanBicking\n",
      "\n",
      "http://pypi.python.org/pypi/virtualenv"
     ]
    },
    {
     "cell_type": "code",
     "collapsed": false,
     "input": [
      "!virtualenv test"
     ],
     "language": "python",
     "metadata": {},
     "outputs": [
      {
       "output_type": "stream",
       "stream": "stdout",
       "text": [
        "New python executable in test/bin/python\r\n"
       ]
      },
      {
       "output_type": "stream",
       "stream": "stdout",
       "text": [
        "Installing setuptools..."
       ]
      },
      {
       "output_type": "stream",
       "stream": "stdout",
       "text": [
        "....."
       ]
      },
      {
       "output_type": "stream",
       "stream": "stdout",
       "text": [
        "....done.\r\n",
        "Installing pip..."
       ]
      },
      {
       "output_type": "stream",
       "stream": "stdout",
       "text": [
        "."
       ]
      },
      {
       "output_type": "stream",
       "stream": "stdout",
       "text": [
        "...."
       ]
      },
      {
       "output_type": "stream",
       "stream": "stdout",
       "text": [
        ".......done.\r\n"
       ]
      }
     ],
     "prompt_number": 29
    },
    {
     "cell_type": "code",
     "collapsed": false,
     "input": [
      "#source test/bin/activate"
     ],
     "language": "python",
     "metadata": {},
     "outputs": []
    },
    {
     "cell_type": "code",
     "collapsed": false,
     "input": [
      "!venv/bin/pip install html"
     ],
     "language": "python",
     "metadata": {},
     "outputs": []
    },
    {
     "cell_type": "code",
     "collapsed": false,
     "input": [
      "!ls"
     ],
     "language": "python",
     "metadata": {},
     "outputs": []
    },
    {
     "cell_type": "code",
     "collapsed": false,
     "input": [
      "!ls test"
     ],
     "language": "python",
     "metadata": {},
     "outputs": []
    },
    {
     "cell_type": "code",
     "collapsed": false,
     "input": [
      "!which pip"
     ],
     "language": "python",
     "metadata": {},
     "outputs": []
    },
    {
     "cell_type": "code",
     "collapsed": false,
     "input": [
      "!python -c \"import html;print html\""
     ],
     "language": "python",
     "metadata": {},
     "outputs": []
    },
    {
     "cell_type": "code",
     "collapsed": false,
     "input": [
      "!pip freeze"
     ],
     "language": "python",
     "metadata": {},
     "outputs": []
    },
    {
     "cell_type": "code",
     "collapsed": false,
     "input": [
      "!pip freeze > req.txt"
     ],
     "language": "python",
     "metadata": {},
     "outputs": []
    },
    {
     "cell_type": "code",
     "collapsed": false,
     "input": [
      "!pip install -r req.txt"
     ],
     "language": "python",
     "metadata": {},
     "outputs": [
      {
       "output_type": "stream",
       "stream": "stdout",
       "text": [
        "Requirement already satisfied (use --upgrade to upgrade): Pygments==1.5 in ./venv/lib/python2.7/site-packages (from -r req.txt (line 1))\r\n",
        "Requirement already satisfied (use --upgrade to upgrade): bpython==0.11 in ./venv/lib/python2.7/site-packages (from -r req.txt (line 2))\r\n",
        "Requirement already satisfied (use --upgrade to upgrade): html==1.16 in ./venv/lib/python2.7/site-packages (from -r req.txt (line 3))\r\n",
        "Requirement already satisfied (use --upgrade to upgrade): ipython==0.13 in ./venv/lib/python2.7/site-packages (from -r req.txt (line 4))\r\n",
        "Requirement already satisfied (use --upgrade to upgrade): pyzmq==2.2.0.1 in ./venv/lib/python2.7/site-packages (from -r req.txt (line 5))\r\n",
        "Requirement already satisfied (use --upgrade to upgrade): tornado==2.4 in ./venv/lib/python2.7/site-packages (from -r req.txt (line 6))\r\n",
        "Requirement already satisfied (use --upgrade to upgrade): wsgiref==0.1.2 in /System/Library/Frameworks/Python.framework/Versions/2.7/lib/python2.7 (from -r req.txt (line 7))\r\n",
        "Cleaning up...\r\n"
       ]
      }
     ],
     "prompt_number": 27
    },
    {
     "cell_type": "code",
     "collapsed": false,
     "input": [
      "!rm -r test"
     ],
     "language": "python",
     "metadata": {},
     "outputs": [
      {
       "output_type": "stream",
       "stream": "stdout",
       "text": [
        "rm: test: No such file or directory\r\n"
       ]
      }
     ],
     "prompt_number": 32
    }
   ],
   "metadata": {}
  }
 ]
}