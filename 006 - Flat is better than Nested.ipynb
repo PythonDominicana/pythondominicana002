{
 "metadata": {
  "name": "006 - Flat is better than Nested"
 },
 "nbformat": 3,
 "nbformat_minor": 0,
 "worksheets": [
  {
   "cells": [
    {
     "cell_type": "heading",
     "level": 1,
     "metadata": {},
     "source": [
      "Flat is better than nested. Sparse is better than dense. Readability counts."
     ]
    },
    {
     "cell_type": "code",
     "collapsed": false,
     "input": [
      "choices = [(field.name, field.verbose_name) for field in obj._meta.fields\n",
      "                    if field.attname.startswith('only') and field.attname not in exclude]"
     ],
     "language": "python",
     "metadata": {},
     "outputs": []
    },
    {
     "cell_type": "code",
     "collapsed": false,
     "input": [
      "        choices = []\n",
      "        for field in Promotion._meta.fields:\n",
      "            if field.attname.startswith('only') and field.attname not in exclude:\n",
      "                choices.append((field.name, field.verbose_name))\n",
      "                if obj:\n",
      "                    if getattr(obj,field.name):\n",
      "                        initial.append(field.name)"
     ],
     "language": "python",
     "metadata": {},
     "outputs": []
    }
   ],
   "metadata": {}
  }
 ]
}